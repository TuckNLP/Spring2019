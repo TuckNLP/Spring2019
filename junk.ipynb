{
  "nbformat": 4,
  "nbformat_minor": 0,
  "metadata": {
    "colab": {
      "name": "junk.ipynb",
      "version": "0.3.2",
      "provenance": [],
      "collapsed_sections": []
    },
    "kernelspec": {
      "name": "python3",
      "display_name": "Python 3"
    }
  },
  "cells": [
    {
      "metadata": {
        "id": "2SbkceZBggAu",
        "colab_type": "code",
        "colab": {}
      },
      "cell_type": "code",
      "source": [
        "from collections import Counter\n",
        "\n",
        "def get_word_frequencies_from_column(review_text):\n",
        "  word_frequencies = Counter()\n",
        "  for _, text in review_text.iteritems():\n",
        "    tokens = text.split()\n",
        "    word_frequencies.update(tokens)\n",
        "\n",
        "  return word_frequencies\n"
      ],
      "execution_count": 0,
      "outputs": []
    }
  ]
}